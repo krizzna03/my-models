{
 "cells": [
  {
   "cell_type": "code",
   "execution_count": 6,
   "id": "bd7a0507-4673-4a6e-b47a-af601bc3583e",
   "metadata": {},
   "outputs": [],
   "source": [
    "from sklearn.datasets import load_iris #load iris data (flower)\n",
    "from sklearn.model_selection import train_test_split #splits the data into training and testing parts\n",
    "from sklearn.tree import DecisionTreeClassifier, export_text #the main classifier used here and [export_text] shows the if-else like statement\n",
    "from sklearn.metrics import accuracy_score #tells us how accurate is our model"
   ]
  },
  {
   "cell_type": "code",
   "execution_count": 5,
   "id": "d54a1590-10dd-4b9d-9de3-a3eb7a1a9951",
   "metadata": {},
   "outputs": [],
   "source": [
    "iris = load_iris() #measurements of flowers \n",
    "x, y = iris.data, iris.target #what kind of flower"
   ]
  },
  {
   "cell_type": "code",
   "execution_count": 8,
   "id": "12fd77bc-b8e7-4f04-b8e2-2e5e8af5f946",
   "metadata": {},
   "outputs": [],
   "source": [
    "x_train, x_test, y_train, y_test = train_test_split(x, y, test_size = 0.30, random_state = 42)"
   ]
  },
  {
   "cell_type": "code",
   "execution_count": 9,
   "id": "7f4c2485-99de-4f80-a332-83714df475bf",
   "metadata": {},
   "outputs": [
    {
     "name": "stdout",
     "output_type": "stream",
     "text": [
      "\n",
      "GINI - Accuracy: 1.0\n"
     ]
    }
   ],
   "source": [
    "#Train decision tree with gini\n",
    "tree_gini = DecisionTreeClassifier(criterion = 'gini', max_depth = 3, random_state = 42)\n",
    "tree_gini.fit(x_train, y_train)\n",
    "y_predgini = tree_gini.predict(x_test)\n",
    "print(\"\\nGINI - Accuracy:\", accuracy_score(y_test, y_predgini))"
   ]
  },
  {
   "cell_type": "code",
   "execution_count": 10,
   "id": "729aa345-1a81-48d9-97c9-b3ec27d3ee23",
   "metadata": {},
   "outputs": [
    {
     "name": "stdout",
     "output_type": "stream",
     "text": [
      "\n",
      "GINI decision tree: \n",
      "|--- petal length (cm) <= 2.45\n",
      "|   |--- class: 0\n",
      "|--- petal length (cm) >  2.45\n",
      "|   |--- petal length (cm) <= 4.75\n",
      "|   |   |--- petal width (cm) <= 1.60\n",
      "|   |   |   |--- class: 1\n",
      "|   |   |--- petal width (cm) >  1.60\n",
      "|   |   |   |--- class: 2\n",
      "|   |--- petal length (cm) >  4.75\n",
      "|   |   |--- petal width (cm) <= 1.75\n",
      "|   |   |   |--- class: 1\n",
      "|   |   |--- petal width (cm) >  1.75\n",
      "|   |   |   |--- class: 2\n",
      "\n"
     ]
    }
   ],
   "source": [
    "#print the tree structure with export_text\n",
    "print(\"\\nGINI decision tree: \")\n",
    "print(export_text(tree_gini, feature_names= iris.feature_names))"
   ]
  },
  {
   "cell_type": "code",
   "execution_count": 14,
   "id": "2347b2c3-cdbe-45ed-a780-2f7723f82193",
   "metadata": {},
   "outputs": [
    {
     "name": "stdout",
     "output_type": "stream",
     "text": [
      "\n",
      "Entropy - Accuracy: 0.9777777777777777\n"
     ]
    }
   ],
   "source": [
    "#Train decision tree with entropy\n",
    "tree_entropy = DecisionTreeClassifier(criterion='entropy', max_depth =3 ,random_state=42)\n",
    "tree_entropy.fit(x_train, y_train)\n",
    "y_predentropy = tree_entropy.predict(x_test)\n",
    "print(\"\\nEntropy - Accuracy:\", accuracy_score(y_test, y_predentropy))"
   ]
  },
  {
   "cell_type": "code",
   "execution_count": 15,
   "id": "68b4715f-675a-431e-8048-f72048ccdf80",
   "metadata": {},
   "outputs": [
    {
     "name": "stdout",
     "output_type": "stream",
     "text": [
      "\n",
      "Entropy decision tree:\n",
      "|--- petal length (cm) <= 2.45\n",
      "|   |--- class: 0\n",
      "|--- petal length (cm) >  2.45\n",
      "|   |--- petal length (cm) <= 4.75\n",
      "|   |   |--- petal width (cm) <= 1.60\n",
      "|   |   |   |--- class: 1\n",
      "|   |   |--- petal width (cm) >  1.60\n",
      "|   |   |   |--- class: 2\n",
      "|   |--- petal length (cm) >  4.75\n",
      "|   |   |--- petal length (cm) <= 5.15\n",
      "|   |   |   |--- class: 2\n",
      "|   |   |--- petal length (cm) >  5.15\n",
      "|   |   |   |--- class: 2\n",
      "\n"
     ]
    }
   ],
   "source": [
    "#print the tree structure with export_text \n",
    "print(\"\\nEntropy decision tree:\")\n",
    "print(export_text(tree_entropy, feature_names = iris.feature_names))"
   ]
  },
  {
   "cell_type": "code",
   "execution_count": null,
   "id": "ed4eb2d7-9a99-44d1-8836-685d3b951f1d",
   "metadata": {},
   "outputs": [],
   "source": []
  }
 ],
 "metadata": {
  "kernelspec": {
   "display_name": "Python 3 (ipykernel)",
   "language": "python",
   "name": "python3"
  },
  "language_info": {
   "codemirror_mode": {
    "name": "ipython",
    "version": 3
   },
   "file_extension": ".py",
   "mimetype": "text/x-python",
   "name": "python",
   "nbconvert_exporter": "python",
   "pygments_lexer": "ipython3",
   "version": "3.10.4"
  }
 },
 "nbformat": 4,
 "nbformat_minor": 5
}
